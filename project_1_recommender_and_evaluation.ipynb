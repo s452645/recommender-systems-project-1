{
 "cells": [
  {
   "cell_type": "code",
   "execution_count": 2,
   "id": "alike-morgan",
   "metadata": {},
   "outputs": [],
   "source": [
    "import random\n",
    "%matplotlib inline\n",
    "%load_ext autoreload\n",
    "%autoreload 2\n",
    "\n",
    "import numpy as np\n",
    "import pandas as pd\n",
    "import matplotlib.pyplot as plt\n",
    "import seaborn as sns\n",
    "from IPython.display import Markdown, display, HTML\n",
    "from collections import defaultdict\n",
    "\n",
    "# Fix the dying kernel problem (only a problem in some installations - you can remove it, if it works without it)\n",
    "import os\n",
    "os.environ['KMP_DUPLICATE_LIB_OK'] = 'True'"
   ]
  },
  {
   "cell_type": "markdown",
   "id": "blessed-knitting",
   "metadata": {},
   "source": [
    "# Load the dataset for recommenders"
   ]
  },
  {
   "cell_type": "code",
   "execution_count": 3,
   "id": "victorian-bottom",
   "metadata": {},
   "outputs": [
    {
     "data": {
      "text/plain": "      user_id  item_id            term length_of_stay_bucket rate_plan  \\\n0           1        0  WinterVacation                 [2-3]  Standard   \n83          1       32       OffSeason                 [2-3]  Standard   \n84          1       32       OffSeason                 [2-3]  Standard   \n318         1      117  WinterVacation                 [2-3]    Nonref   \n1194        1      120       LowSeason                 [4-7]    Nonref   \n1558        1      267       LowSeason                 [4-7]    Nonref   \n1617        1      122       OffSeason                 [4-7]    Nonref   \n2735        1      194      HighSeason                 [2-3]    Nonref   \n3993        1       56       OffSeason                 [2-3]    Nonref   \n4127        1       24       OffSeason                 [4-7]  Standard   \n5509        1       32       OffSeason                 [2-3]  Standard   \n5697        1       28       OffSeason                 [4-7]  Standard   \n6257        1       91      HighSeason                 [4-7]    Nonref   \n6405        1       52       OffSeason                 [2-3]    Nonref   \n8263        1      162       LowSeason                 [2-3]  Standard   \n\n     room_segment n_people_bucket weekend_stay  \n0       [260-360]         [5-inf]         True  \n83      [160-260]           [2-2]         True  \n84      [160-260]           [2-2]         True  \n318     [160-260]           [2-2]         True  \n1194    [160-260]           [2-2]         True  \n1558    [260-360]         [5-inf]        False  \n1617    [160-260]           [3-4]        False  \n2735    [260-360]           [3-4]        False  \n3993    [160-260]           [2-2]         True  \n4127    [160-260]           [2-2]         True  \n5509    [160-260]           [2-2]         True  \n5697    [160-260]           [3-4]        False  \n6257    [160-260]           [2-2]         True  \n6405    [160-260]           [3-4]         True  \n8263    [160-260]           [2-2]         True  ",
      "text/html": "<div>\n<style scoped>\n    .dataframe tbody tr th:only-of-type {\n        vertical-align: middle;\n    }\n\n    .dataframe tbody tr th {\n        vertical-align: top;\n    }\n\n    .dataframe thead th {\n        text-align: right;\n    }\n</style>\n<table border=\"1\" class=\"dataframe\">\n  <thead>\n    <tr style=\"text-align: right;\">\n      <th></th>\n      <th>user_id</th>\n      <th>item_id</th>\n      <th>term</th>\n      <th>length_of_stay_bucket</th>\n      <th>rate_plan</th>\n      <th>room_segment</th>\n      <th>n_people_bucket</th>\n      <th>weekend_stay</th>\n    </tr>\n  </thead>\n  <tbody>\n    <tr>\n      <th>0</th>\n      <td>1</td>\n      <td>0</td>\n      <td>WinterVacation</td>\n      <td>[2-3]</td>\n      <td>Standard</td>\n      <td>[260-360]</td>\n      <td>[5-inf]</td>\n      <td>True</td>\n    </tr>\n    <tr>\n      <th>83</th>\n      <td>1</td>\n      <td>32</td>\n      <td>OffSeason</td>\n      <td>[2-3]</td>\n      <td>Standard</td>\n      <td>[160-260]</td>\n      <td>[2-2]</td>\n      <td>True</td>\n    </tr>\n    <tr>\n      <th>84</th>\n      <td>1</td>\n      <td>32</td>\n      <td>OffSeason</td>\n      <td>[2-3]</td>\n      <td>Standard</td>\n      <td>[160-260]</td>\n      <td>[2-2]</td>\n      <td>True</td>\n    </tr>\n    <tr>\n      <th>318</th>\n      <td>1</td>\n      <td>117</td>\n      <td>WinterVacation</td>\n      <td>[2-3]</td>\n      <td>Nonref</td>\n      <td>[160-260]</td>\n      <td>[2-2]</td>\n      <td>True</td>\n    </tr>\n    <tr>\n      <th>1194</th>\n      <td>1</td>\n      <td>120</td>\n      <td>LowSeason</td>\n      <td>[4-7]</td>\n      <td>Nonref</td>\n      <td>[160-260]</td>\n      <td>[2-2]</td>\n      <td>True</td>\n    </tr>\n    <tr>\n      <th>1558</th>\n      <td>1</td>\n      <td>267</td>\n      <td>LowSeason</td>\n      <td>[4-7]</td>\n      <td>Nonref</td>\n      <td>[260-360]</td>\n      <td>[5-inf]</td>\n      <td>False</td>\n    </tr>\n    <tr>\n      <th>1617</th>\n      <td>1</td>\n      <td>122</td>\n      <td>OffSeason</td>\n      <td>[4-7]</td>\n      <td>Nonref</td>\n      <td>[160-260]</td>\n      <td>[3-4]</td>\n      <td>False</td>\n    </tr>\n    <tr>\n      <th>2735</th>\n      <td>1</td>\n      <td>194</td>\n      <td>HighSeason</td>\n      <td>[2-3]</td>\n      <td>Nonref</td>\n      <td>[260-360]</td>\n      <td>[3-4]</td>\n      <td>False</td>\n    </tr>\n    <tr>\n      <th>3993</th>\n      <td>1</td>\n      <td>56</td>\n      <td>OffSeason</td>\n      <td>[2-3]</td>\n      <td>Nonref</td>\n      <td>[160-260]</td>\n      <td>[2-2]</td>\n      <td>True</td>\n    </tr>\n    <tr>\n      <th>4127</th>\n      <td>1</td>\n      <td>24</td>\n      <td>OffSeason</td>\n      <td>[4-7]</td>\n      <td>Standard</td>\n      <td>[160-260]</td>\n      <td>[2-2]</td>\n      <td>True</td>\n    </tr>\n    <tr>\n      <th>5509</th>\n      <td>1</td>\n      <td>32</td>\n      <td>OffSeason</td>\n      <td>[2-3]</td>\n      <td>Standard</td>\n      <td>[160-260]</td>\n      <td>[2-2]</td>\n      <td>True</td>\n    </tr>\n    <tr>\n      <th>5697</th>\n      <td>1</td>\n      <td>28</td>\n      <td>OffSeason</td>\n      <td>[4-7]</td>\n      <td>Standard</td>\n      <td>[160-260]</td>\n      <td>[3-4]</td>\n      <td>False</td>\n    </tr>\n    <tr>\n      <th>6257</th>\n      <td>1</td>\n      <td>91</td>\n      <td>HighSeason</td>\n      <td>[4-7]</td>\n      <td>Nonref</td>\n      <td>[160-260]</td>\n      <td>[2-2]</td>\n      <td>True</td>\n    </tr>\n    <tr>\n      <th>6405</th>\n      <td>1</td>\n      <td>52</td>\n      <td>OffSeason</td>\n      <td>[2-3]</td>\n      <td>Nonref</td>\n      <td>[160-260]</td>\n      <td>[3-4]</td>\n      <td>True</td>\n    </tr>\n    <tr>\n      <th>8263</th>\n      <td>1</td>\n      <td>162</td>\n      <td>LowSeason</td>\n      <td>[2-3]</td>\n      <td>Standard</td>\n      <td>[160-260]</td>\n      <td>[2-2]</td>\n      <td>True</td>\n    </tr>\n  </tbody>\n</table>\n</div>"
     },
     "metadata": {},
     "output_type": "display_data"
    }
   ],
   "source": [
    "data_path = os.path.join(\"data\", \"hotel_data\")\n",
    "\n",
    "interactions_df = pd.read_csv(os.path.join(data_path, \"hotel_data_interactions_df.csv\"), index_col=0)\n",
    "\n",
    "base_item_features = ['term', 'length_of_stay_bucket', 'rate_plan', 'room_segment', 'n_people_bucket', 'weekend_stay']\n",
    "\n",
    "column_values_dict = {\n",
    "    'term': ['WinterVacation', 'Easter', 'OffSeason', 'HighSeason', 'LowSeason', 'MayLongWeekend', 'NewYear', 'Christmas'],\n",
    "    'length_of_stay_bucket': ['[0-1]', '[2-3]', '[4-7]', '[8-inf]'],\n",
    "    'rate_plan': ['Standard', 'Nonref'],\n",
    "    'room_segment': ['[0-160]', '[160-260]', '[260-360]', '[360-500]', '[500-900]'],\n",
    "    'n_people_bucket': ['[1-1]', '[2-2]', '[3-4]', '[5-inf]'],\n",
    "    'weekend_stay': ['True', 'False']\n",
    "}\n",
    "\n",
    "interactions_df['term'] = pd.Categorical(\n",
    "    interactions_df['term'], categories=column_values_dict['term'])\n",
    "interactions_df['length_of_stay_bucket'] = pd.Categorical(\n",
    "    interactions_df['length_of_stay_bucket'], categories=column_values_dict['length_of_stay_bucket'])\n",
    "interactions_df['rate_plan'] = pd.Categorical(\n",
    "    interactions_df['rate_plan'], categories=column_values_dict['rate_plan'])\n",
    "interactions_df['room_segment'] = pd.Categorical(\n",
    "    interactions_df['room_segment'], categories=column_values_dict['room_segment'])\n",
    "interactions_df['n_people_bucket'] = pd.Categorical(\n",
    "    interactions_df['n_people_bucket'], categories=column_values_dict['n_people_bucket'])\n",
    "interactions_df['weekend_stay'] = interactions_df['weekend_stay'].astype('str')\n",
    "interactions_df['weekend_stay'] = pd.Categorical(\n",
    "    interactions_df['weekend_stay'], categories=column_values_dict['weekend_stay'])\n",
    "\n",
    "display(interactions_df.query(\"user_id == 1\").head(15))"
   ]
  },
  {
   "cell_type": "markdown",
   "id": "realistic-third",
   "metadata": {},
   "source": [
    "# Define user features based on reservations\n",
    "\n",
    "The content-based recommenders will be forecasting the probability of interaction between user and item based on user features vector and item features vector:\n",
    "\n",
    "<center>\n",
    "$$\n",
    "    r_{u, i} = f(user\\_features, item\\_features)\n",
    "$$\n",
    "</center>\n",
    "\n",
    "<span style=\"color:red\"><font size=\"4\">**Task:**</font></span><br> \n",
    "Design numerical user features based on user reservations. Code the following method which for a given interactions DataFrame (it will be used in the fit method of the recommender) returns a DataFrame with user_id and user features as well as a list with names of user features (this will be important to select the right columns for an ML algorithm). Remember to name the columns differently than item features which you will create in the next task. Validate your features on users with several interactions (sample user ids are already given below).\n",
    "\n",
    "Ideas for user features:\n",
    "- Find the vector of most popular feature values from all user reservations and encode every feature with one-hot encoding.\n",
    "- For every reservation feature calculate the probability distribution of its values among all user's reservations.\n",
    "- For numerical buckets (length_of_stay, room_segment, n_people) you can calculate the average value for every user from their reservations (you will have to map the buckets back to numerical values before averaging them).\n",
    "\n",
    "Remember that you will have to select the best features (with the highest explanatory power). Using all above features at once would make the number of variables too large for this dataset and would also introduce too much correlations between features.\n",
    "\n",
    "You can also prepare several versions of the prepare_users_df method and test which works best in your recommender."
   ]
  },
  {
   "cell_type": "code",
   "execution_count": 4,
   "id": "variable-jaguar",
   "metadata": {},
   "outputs": [
    {
     "name": "stdout",
     "output_type": "stream",
     "text": [
      "['Easter', 'Christmas', 'NewYear', 'WinterVacation', 'OffSeason', 'MayLongWeekend', 'LowSeason', 'HighSeason', 'avg_length_of_stay', 'avg_room_price']\n"
     ]
    },
    {
     "data": {
      "text/plain": "      user_id  Easter  Christmas  NewYear  WinterVacation  OffSeason  \\\n0           1     0.0        0.0      0.0             1.0        1.0   \n40         50     0.0        0.0      0.0             1.0        1.0   \n84         96     0.0        0.0      0.0             1.0        1.0   \n102       115     0.0        0.0      0.0             0.0        1.0   \n371       706     0.0        0.0      1.0             1.0        1.0   \n1383     1736     0.0        0.0      0.0             1.0        1.0   \n7301     7779     0.0        0.0      0.0             0.0        1.0   \n\n      MayLongWeekend  LowSeason  HighSeason  avg_length_of_stay  \\\n0                0.0        1.0         1.0                3.73   \n40               0.0        1.0         1.0                2.76   \n84               1.0        1.0         1.0                2.39   \n102              0.0        0.0         0.0                4.00   \n371              1.0        1.0         1.0                3.16   \n1383             0.0        1.0         1.0                2.64   \n7301             0.0        1.0         0.0                5.62   \n\n      avg_room_price  \n0             223.64  \n40            253.48  \n84            213.18  \n102           260.00  \n371           216.07  \n1383          216.90  \n7301          210.00  ",
      "text/html": "<div>\n<style scoped>\n    .dataframe tbody tr th:only-of-type {\n        vertical-align: middle;\n    }\n\n    .dataframe tbody tr th {\n        vertical-align: top;\n    }\n\n    .dataframe thead th {\n        text-align: right;\n    }\n</style>\n<table border=\"1\" class=\"dataframe\">\n  <thead>\n    <tr style=\"text-align: right;\">\n      <th></th>\n      <th>user_id</th>\n      <th>Easter</th>\n      <th>Christmas</th>\n      <th>NewYear</th>\n      <th>WinterVacation</th>\n      <th>OffSeason</th>\n      <th>MayLongWeekend</th>\n      <th>LowSeason</th>\n      <th>HighSeason</th>\n      <th>avg_length_of_stay</th>\n      <th>avg_room_price</th>\n    </tr>\n  </thead>\n  <tbody>\n    <tr>\n      <th>0</th>\n      <td>1</td>\n      <td>0.0</td>\n      <td>0.0</td>\n      <td>0.0</td>\n      <td>1.0</td>\n      <td>1.0</td>\n      <td>0.0</td>\n      <td>1.0</td>\n      <td>1.0</td>\n      <td>3.73</td>\n      <td>223.64</td>\n    </tr>\n    <tr>\n      <th>40</th>\n      <td>50</td>\n      <td>0.0</td>\n      <td>0.0</td>\n      <td>0.0</td>\n      <td>1.0</td>\n      <td>1.0</td>\n      <td>0.0</td>\n      <td>1.0</td>\n      <td>1.0</td>\n      <td>2.76</td>\n      <td>253.48</td>\n    </tr>\n    <tr>\n      <th>84</th>\n      <td>96</td>\n      <td>0.0</td>\n      <td>0.0</td>\n      <td>0.0</td>\n      <td>1.0</td>\n      <td>1.0</td>\n      <td>1.0</td>\n      <td>1.0</td>\n      <td>1.0</td>\n      <td>2.39</td>\n      <td>213.18</td>\n    </tr>\n    <tr>\n      <th>102</th>\n      <td>115</td>\n      <td>0.0</td>\n      <td>0.0</td>\n      <td>0.0</td>\n      <td>0.0</td>\n      <td>1.0</td>\n      <td>0.0</td>\n      <td>0.0</td>\n      <td>0.0</td>\n      <td>4.00</td>\n      <td>260.00</td>\n    </tr>\n    <tr>\n      <th>371</th>\n      <td>706</td>\n      <td>0.0</td>\n      <td>0.0</td>\n      <td>1.0</td>\n      <td>1.0</td>\n      <td>1.0</td>\n      <td>1.0</td>\n      <td>1.0</td>\n      <td>1.0</td>\n      <td>3.16</td>\n      <td>216.07</td>\n    </tr>\n    <tr>\n      <th>1383</th>\n      <td>1736</td>\n      <td>0.0</td>\n      <td>0.0</td>\n      <td>0.0</td>\n      <td>1.0</td>\n      <td>1.0</td>\n      <td>0.0</td>\n      <td>1.0</td>\n      <td>1.0</td>\n      <td>2.64</td>\n      <td>216.90</td>\n    </tr>\n    <tr>\n      <th>7301</th>\n      <td>7779</td>\n      <td>0.0</td>\n      <td>0.0</td>\n      <td>0.0</td>\n      <td>0.0</td>\n      <td>1.0</td>\n      <td>0.0</td>\n      <td>1.0</td>\n      <td>0.0</td>\n      <td>5.62</td>\n      <td>210.00</td>\n    </tr>\n  </tbody>\n</table>\n</div>"
     },
     "metadata": {},
     "output_type": "display_data"
    }
   ],
   "source": [
    "def prepare_users_df(interactions_df):\n",
    "    current_term = \"\"\n",
    "\n",
    "    def is_containing_term(row):\n",
    "        if current_term in row[\"term\"]:\n",
    "            return 1.0\n",
    "        return 0.0\n",
    "\n",
    "    def convert_length_of_stay(row):\n",
    "        bucket = row[\"length_of_stay_bucket\"]\n",
    "        if bucket == \"[0-1]\":\n",
    "            return 0.5\n",
    "        elif bucket == \"[2-3]\":\n",
    "            return 2.5\n",
    "        elif bucket == \"[4-7]\":\n",
    "            return 5.5\n",
    "        elif bucket == \"[8-inf]\":\n",
    "            return 9.0\n",
    "\n",
    "    def convert_room_segment(row):\n",
    "        bucket = row[\"room_segment\"]\n",
    "        if bucket == \"[0-160]\":\n",
    "            return 80.0\n",
    "        elif bucket == \"[160-260]\":\n",
    "            return 210.0\n",
    "        elif bucket == \"[260-360]\":\n",
    "            return 310.0\n",
    "        elif bucket == \"[360-500]\":\n",
    "            return 430.0\n",
    "        elif bucket == \"[500-900]\":\n",
    "            return 700.0\n",
    "        else:\n",
    "            return 1000.0\n",
    "\n",
    "\n",
    "    user_df = interactions_df.copy()\n",
    "    terms_grouped = user_df[[\"user_id\", \"term\"]].copy()\n",
    "    terms_grouped = terms_grouped.groupby([\"user_id\"]).agg(lambda col: '_'.join(col))\n",
    "    arrival_terms = [\"Easter\", \"Christmas\", \"NewYear\", \"WinterVacation\", \"OffSeason\", \"MayLongWeekend\", \"LowSeason\", \"HighSeason\"]\n",
    "    for arrival_term in arrival_terms:\n",
    "        current_term = arrival_term\n",
    "        terms_grouped[arrival_term] = terms_grouped.apply(is_containing_term, axis=1)\n",
    "\n",
    "    terms_grouped = terms_grouped.reset_index()\n",
    "    terms_grouped = terms_grouped.drop(columns=[\"term\"])\n",
    "\n",
    "    length_of_stay_grouped = user_df[[\"user_id\", \"length_of_stay_bucket\"]].copy()\n",
    "    length_of_stay_grouped[\"avg_length_of_stay\"] = length_of_stay_grouped.apply(convert_length_of_stay, axis=1)\n",
    "    length_of_stay_grouped = length_of_stay_grouped.groupby([\"user_id\"]).mean()\n",
    "    length_of_stay_grouped[\"avg_length_of_stay\"] = length_of_stay_grouped[\"avg_length_of_stay\"].apply(lambda x: round(x, 2))\n",
    "\n",
    "    terms_grouped = terms_grouped.merge(length_of_stay_grouped, on=\"user_id\")\n",
    "\n",
    "    rooms_grouped = user_df[[\"user_id\", \"room_segment\"]].copy()\n",
    "    rooms_grouped[\"avg_room_price\"] = rooms_grouped.apply(convert_room_segment, axis=1)\n",
    "    rooms_grouped = rooms_grouped.groupby([\"user_id\"]).mean()\n",
    "    rooms_grouped[\"avg_room_price\"] = rooms_grouped[\"avg_room_price\"].apply(lambda x: round(x, 2))\n",
    "\n",
    "    terms_grouped = terms_grouped.merge(rooms_grouped, on=\"user_id\")\n",
    "    users_df = terms_grouped\n",
    "    user_features = list(users_df.columns[1:])\n",
    "    \n",
    "    return users_df, user_features\n",
    "    \n",
    "\n",
    "users_df, user_features = prepare_users_df(interactions_df)\n",
    "\n",
    "print(user_features)\n",
    "\n",
    "display(users_df.loc[users_df['user_id'].isin([706, 1736, 7779, 96, 1, 50, 115])].head(15))"
   ]
  },
  {
   "cell_type": "markdown",
   "id": "built-complaint",
   "metadata": {},
   "source": [
    "# Prepare numerical item features\n",
    "\n",
    "<span style=\"color:red\"><font size=\"4\">**Task:**</font></span><br> \n",
    "Code the prepare_items_df method which will be used in the recommender fit and recommend methods to map items to numerical features. This method should take the interactions_df DataFrame as input and return a DataFrame containing one record per item_id with item_id column and numerical item feature columns.\n",
    "\n",
    "You can try turning all item features into one-hot representations. You can use the get_dummies method from pandas. It will return the same columns on any dataset of interactions because the categorical variables with all possible values have been defined in the second cell in this notebook.\n",
    "\n",
    "You are welcome to design your own numerical item features, for instance based on numerical min and max values in buckets used as features."
   ]
  },
  {
   "cell_type": "code",
   "execution_count": 5,
   "id": "formal-munich",
   "metadata": {},
   "outputs": [
    {
     "name": "stdout",
     "output_type": "stream",
     "text": [
      "['term_WinterVacation', 'term_Easter', 'term_OffSeason', 'term_HighSeason', 'term_LowSeason', 'term_MayLongWeekend', 'term_NewYear', 'term_Christmas', 'length_of_stay_bucket_[0-1]', 'length_of_stay_bucket_[2-3]', 'length_of_stay_bucket_[4-7]', 'length_of_stay_bucket_[8-inf]', 'rate_plan_Standard', 'rate_plan_Nonref', 'room_segment_[0-160]', 'room_segment_[160-260]', 'room_segment_[260-360]', 'room_segment_[360-500]', 'room_segment_[500-900]', 'n_people_bucket_[1-1]', 'n_people_bucket_[2-2]', 'n_people_bucket_[3-4]', 'n_people_bucket_[5-inf]', 'weekend_stay_True', 'weekend_stay_False']\n"
     ]
    },
    {
     "data": {
      "text/plain": "   item_id  term_WinterVacation  term_Easter  term_OffSeason  term_HighSeason  \\\n0        0                  1.0          0.0             0.0              0.0   \n1        1                  1.0          0.0             0.0              0.0   \n2        2                  1.0          0.0             0.0              0.0   \n3        3                  1.0          0.0             0.0              0.0   \n4        4                  1.0          0.0             0.0              0.0   \n5        5                  0.0          1.0             0.0              0.0   \n6        6                  0.0          0.0             1.0              0.0   \n\n   term_LowSeason  term_MayLongWeekend  term_NewYear  term_Christmas  \\\n0             0.0                  0.0           0.0             0.0   \n1             0.0                  0.0           0.0             0.0   \n2             0.0                  0.0           0.0             0.0   \n3             0.0                  0.0           0.0             0.0   \n4             0.0                  0.0           0.0             0.0   \n5             0.0                  0.0           0.0             0.0   \n6             0.0                  0.0           0.0             0.0   \n\n   length_of_stay_bucket_[0-1]  ...  room_segment_[160-260]  \\\n0                          0.0  ...                     0.0   \n1                          0.0  ...                     1.0   \n2                          0.0  ...                     1.0   \n3                          0.0  ...                     1.0   \n4                          0.0  ...                     0.0   \n5                          0.0  ...                     0.0   \n6                          0.0  ...                     0.0   \n\n   room_segment_[260-360]  room_segment_[360-500]  room_segment_[500-900]  \\\n0                     1.0                     0.0                     0.0   \n1                     0.0                     0.0                     0.0   \n2                     0.0                     0.0                     0.0   \n3                     0.0                     0.0                     0.0   \n4                     0.0                     0.0                     0.0   \n5                     1.0                     0.0                     0.0   \n6                     1.0                     0.0                     0.0   \n\n   n_people_bucket_[1-1]  n_people_bucket_[2-2]  n_people_bucket_[3-4]  \\\n0                    0.0                    0.0                    0.0   \n1                    0.0                    0.0                    1.0   \n2                    0.0                    1.0                    0.0   \n3                    0.0                    0.0                    1.0   \n4                    0.0                    1.0                    0.0   \n5                    0.0                    0.0                    0.0   \n6                    0.0                    0.0                    0.0   \n\n   n_people_bucket_[5-inf]  weekend_stay_True  weekend_stay_False  \n0                      1.0                1.0                 0.0  \n1                      0.0                0.0                 1.0  \n2                      0.0                0.0                 1.0  \n3                      0.0                1.0                 0.0  \n4                      0.0                0.0                 1.0  \n5                      1.0                1.0                 0.0  \n6                      1.0                1.0                 0.0  \n\n[7 rows x 26 columns]",
      "text/html": "<div>\n<style scoped>\n    .dataframe tbody tr th:only-of-type {\n        vertical-align: middle;\n    }\n\n    .dataframe tbody tr th {\n        vertical-align: top;\n    }\n\n    .dataframe thead th {\n        text-align: right;\n    }\n</style>\n<table border=\"1\" class=\"dataframe\">\n  <thead>\n    <tr style=\"text-align: right;\">\n      <th></th>\n      <th>item_id</th>\n      <th>term_WinterVacation</th>\n      <th>term_Easter</th>\n      <th>term_OffSeason</th>\n      <th>term_HighSeason</th>\n      <th>term_LowSeason</th>\n      <th>term_MayLongWeekend</th>\n      <th>term_NewYear</th>\n      <th>term_Christmas</th>\n      <th>length_of_stay_bucket_[0-1]</th>\n      <th>...</th>\n      <th>room_segment_[160-260]</th>\n      <th>room_segment_[260-360]</th>\n      <th>room_segment_[360-500]</th>\n      <th>room_segment_[500-900]</th>\n      <th>n_people_bucket_[1-1]</th>\n      <th>n_people_bucket_[2-2]</th>\n      <th>n_people_bucket_[3-4]</th>\n      <th>n_people_bucket_[5-inf]</th>\n      <th>weekend_stay_True</th>\n      <th>weekend_stay_False</th>\n    </tr>\n  </thead>\n  <tbody>\n    <tr>\n      <th>0</th>\n      <td>0</td>\n      <td>1.0</td>\n      <td>0.0</td>\n      <td>0.0</td>\n      <td>0.0</td>\n      <td>0.0</td>\n      <td>0.0</td>\n      <td>0.0</td>\n      <td>0.0</td>\n      <td>0.0</td>\n      <td>...</td>\n      <td>0.0</td>\n      <td>1.0</td>\n      <td>0.0</td>\n      <td>0.0</td>\n      <td>0.0</td>\n      <td>0.0</td>\n      <td>0.0</td>\n      <td>1.0</td>\n      <td>1.0</td>\n      <td>0.0</td>\n    </tr>\n    <tr>\n      <th>1</th>\n      <td>1</td>\n      <td>1.0</td>\n      <td>0.0</td>\n      <td>0.0</td>\n      <td>0.0</td>\n      <td>0.0</td>\n      <td>0.0</td>\n      <td>0.0</td>\n      <td>0.0</td>\n      <td>0.0</td>\n      <td>...</td>\n      <td>1.0</td>\n      <td>0.0</td>\n      <td>0.0</td>\n      <td>0.0</td>\n      <td>0.0</td>\n      <td>0.0</td>\n      <td>1.0</td>\n      <td>0.0</td>\n      <td>0.0</td>\n      <td>1.0</td>\n    </tr>\n    <tr>\n      <th>2</th>\n      <td>2</td>\n      <td>1.0</td>\n      <td>0.0</td>\n      <td>0.0</td>\n      <td>0.0</td>\n      <td>0.0</td>\n      <td>0.0</td>\n      <td>0.0</td>\n      <td>0.0</td>\n      <td>0.0</td>\n      <td>...</td>\n      <td>1.0</td>\n      <td>0.0</td>\n      <td>0.0</td>\n      <td>0.0</td>\n      <td>0.0</td>\n      <td>1.0</td>\n      <td>0.0</td>\n      <td>0.0</td>\n      <td>0.0</td>\n      <td>1.0</td>\n    </tr>\n    <tr>\n      <th>3</th>\n      <td>3</td>\n      <td>1.0</td>\n      <td>0.0</td>\n      <td>0.0</td>\n      <td>0.0</td>\n      <td>0.0</td>\n      <td>0.0</td>\n      <td>0.0</td>\n      <td>0.0</td>\n      <td>0.0</td>\n      <td>...</td>\n      <td>1.0</td>\n      <td>0.0</td>\n      <td>0.0</td>\n      <td>0.0</td>\n      <td>0.0</td>\n      <td>0.0</td>\n      <td>1.0</td>\n      <td>0.0</td>\n      <td>1.0</td>\n      <td>0.0</td>\n    </tr>\n    <tr>\n      <th>4</th>\n      <td>4</td>\n      <td>1.0</td>\n      <td>0.0</td>\n      <td>0.0</td>\n      <td>0.0</td>\n      <td>0.0</td>\n      <td>0.0</td>\n      <td>0.0</td>\n      <td>0.0</td>\n      <td>0.0</td>\n      <td>...</td>\n      <td>0.0</td>\n      <td>0.0</td>\n      <td>0.0</td>\n      <td>0.0</td>\n      <td>0.0</td>\n      <td>1.0</td>\n      <td>0.0</td>\n      <td>0.0</td>\n      <td>0.0</td>\n      <td>1.0</td>\n    </tr>\n    <tr>\n      <th>5</th>\n      <td>5</td>\n      <td>0.0</td>\n      <td>1.0</td>\n      <td>0.0</td>\n      <td>0.0</td>\n      <td>0.0</td>\n      <td>0.0</td>\n      <td>0.0</td>\n      <td>0.0</td>\n      <td>0.0</td>\n      <td>...</td>\n      <td>0.0</td>\n      <td>1.0</td>\n      <td>0.0</td>\n      <td>0.0</td>\n      <td>0.0</td>\n      <td>0.0</td>\n      <td>0.0</td>\n      <td>1.0</td>\n      <td>1.0</td>\n      <td>0.0</td>\n    </tr>\n    <tr>\n      <th>6</th>\n      <td>6</td>\n      <td>0.0</td>\n      <td>0.0</td>\n      <td>1.0</td>\n      <td>0.0</td>\n      <td>0.0</td>\n      <td>0.0</td>\n      <td>0.0</td>\n      <td>0.0</td>\n      <td>0.0</td>\n      <td>...</td>\n      <td>0.0</td>\n      <td>1.0</td>\n      <td>0.0</td>\n      <td>0.0</td>\n      <td>0.0</td>\n      <td>0.0</td>\n      <td>0.0</td>\n      <td>1.0</td>\n      <td>1.0</td>\n      <td>0.0</td>\n    </tr>\n  </tbody>\n</table>\n<p>7 rows × 26 columns</p>\n</div>"
     },
     "metadata": {},
     "output_type": "display_data"
    }
   ],
   "source": [
    "def prepare_items_df(interactions_df):\n",
    "    \n",
    "    # Write your code here\n",
    "    items_df = interactions_df.copy()\n",
    "    if \"user_id\" in interactions_df.columns:\n",
    "        items_df = items_df.drop(columns=[\"user_id\"])\n",
    "\n",
    "    items_df = pd.get_dummies(items_df).groupby([\"item_id\"]).mean().reset_index()\n",
    "    item_features = list(items_df.columns[1:])\n",
    "    return items_df, item_features\n",
    "\n",
    "\n",
    "items_df, item_features = prepare_items_df(interactions_df)\n",
    "\n",
    "print(item_features)\n",
    "\n",
    "display(items_df.loc[items_df['item_id'].isin([0, 1, 2, 3, 4, 5, 6])].head(15))"
   ]
  },
  {
   "cell_type": "markdown",
   "id": "figured-imaging",
   "metadata": {},
   "source": [
    "# Content-based recommender\n",
    "\n",
    "<span style=\"color:red\"><font size=\"4\">**Task:**</font></span><br> \n",
    "Code the content-based recommender. User features should be calculated within the fit method based on available training data and should be saved in the object as self.users_df for later use in the recommend method. Item features should be calculated both in the fit method (from interactions_df) and in the recommend method (from items_df - the items to be evaluated).\n",
    "\n",
    "In the fit method you have to randomly generate non-existing interactions and add them to the training data for the regressor. You should add the target variable to interactions - equal to 1 for real (\"positive\") interactions and equal to 0 for those newly added \"negative\" interactions. Generate several negative interactions per every positive interaction (n_neg_per_pos). Treat the proportion as a tunable parameter of the model.\n",
    "\n",
    "Remember to keep control over randomness - in the init method add seed as a parameter and initialize the random seed generator with that seed:\n",
    "\n",
    "```python\n",
    "self.seed = seed\n",
    "self.rng = np.random.RandomState(seed=seed)\n",
    "```\n",
    "\n",
    "Below the base content-based recommender class there are several classes which inherit from the base class and use different ML models:\n",
    "  - LinearRegressionCBUIRecommender - based on linear regression,\n",
    "  - SVRCBUIRecommender - based on Support Vector Regressor (if you want to test it, sample the data in the fit method, as the training can take many hours on the entire dataset of interactions),\n",
    "  - RandomForestCBUIRecommender - based on Random Forest,\n",
    "  - XGBoostCBUIRecommender - based on XGBoost.\n",
    "  \n",
    "There is no need to change anything in those inheriting classes, although you can experiment with other tunable parameters of the underlying models.\n",
    "\n",
    "You are encouraged to experiment with:\n",
    "  - Other numerical user and item features (but always train and evaluate the model on buckets defined in the first notebook).\n",
    "  - Other ML models, e.g. Huber regression, Lasso regression, Ridge regression, LARS regression, Linear SVR, Decision Tree, Naive Bayes, LightGBM, Neural Networks or any model of your choice."
   ]
  },
  {
   "cell_type": "code",
   "execution_count": 6,
   "id": "unlike-recipient",
   "metadata": {},
   "outputs": [],
   "source": [
    "from sklearn.linear_model import LinearRegression\n",
    "from sklearn.svm import SVR\n",
    "from sklearn.ensemble import RandomForestRegressor\n",
    "from sklearn.ensemble import GradientBoostingRegressor\n",
    "from collections import defaultdict\n",
    "\n",
    "from recommenders.recommender import Recommender\n",
    "\n",
    "\n",
    "class ContentBasedUserItemRecommender(Recommender):\n",
    "    \"\"\"\n",
    "    Linear recommender class based on user and item features.\n",
    "    \"\"\"\n",
    "    \n",
    "    def __init__(self, seed=6789, n_neg_per_pos=5):\n",
    "        \"\"\"\n",
    "        Initialize base recommender params and variables.\n",
    "        \"\"\"\n",
    "        self.model = LinearRegression()\n",
    "        self.n_neg_per_pos = n_neg_per_pos\n",
    "        \n",
    "        self.recommender_df = pd.DataFrame(columns=['user_id', 'item_id', 'score'])\n",
    "        self.users_df = None\n",
    "        self.user_features = None\n",
    "        \n",
    "        self.seed = seed\n",
    "        self.rng = np.random.RandomState(seed=seed)\n",
    "    \n",
    "    def fit(self, interactions_df, users_df, items_df):\n",
    "        \"\"\"\n",
    "        Training of the recommender.\n",
    "        \n",
    "        :param pd.DataFrame interactions_df: DataFrame with recorded interactions between users and items \n",
    "            defined by user_id, item_id and features of the interaction.\n",
    "        :param pd.DataFrame users_df: DataFrame with users and their features defined by user_id and the user feature columns.\n",
    "        :param pd.DataFrame items_df: DataFrame with items and their features defined by item_id and the item feature columns.\n",
    "        \"\"\"\n",
    "        \n",
    "        interactions_df = interactions_df.copy()\n",
    "        \n",
    "        # Prepare users_df and items_df\n",
    "        \n",
    "        users_df, user_features = prepare_users_df(interactions_df)\n",
    "        \n",
    "        self.users_df = users_df\n",
    "        self.user_features = user_features\n",
    "        \n",
    "        items_df, item_features = prepare_items_df(interactions_df)\n",
    "        items_df = items_df.loc[:, ['item_id'] + item_features]\n",
    "        \n",
    "        # Generate negative interactions\n",
    "        \n",
    "        interactions_df = interactions_df.loc[:, ['user_id', 'item_id']]\n",
    "        \n",
    "        interactions_df.loc[:, 'interacted'] = 1\n",
    "        \n",
    "        negative_interactions = []\n",
    "        \n",
    "        ########################\n",
    "        # Write your code here #\n",
    "        # Generate tuples (user_id, item_id, 0) for pairs (user_id, item_id) which do not\n",
    "        # appear in the interactions_df and add those tuples to the list negative_interactions.\n",
    "        # Generate self.n_neg_per_pos * len(interactions_df) negative interactions \n",
    "        # (self.n_neg_per_pos per one positive).\n",
    "        # Make sure the code is efficient and runs fast, otherwise you will not be able to properly tune your model.\n",
    "        max_user_id = interactions_df[\"user_id\"].max()\n",
    "        max_item_id = interactions_df[\"item_id\"].max()\n",
    "\n",
    "        for i in range(int(len(interactions_df) * self.n_neg_per_pos)):\n",
    "            while True:\n",
    "                random_user_id = self.rng.randint(0, max_user_id)\n",
    "                random_item_id = self.rng.randint(0, max_item_id)\n",
    "\n",
    "                if interactions_df.loc[(interactions_df[\"user_id\"] == random_user_id) & (interactions_df[\"item_id\"] == random_item_id)].empty:\n",
    "                    negative_interactions.append([random_user_id, random_item_id, 0])\n",
    "                    break\n",
    "\n",
    "        interactions_df = pd.concat(\n",
    "            [interactions_df, pd.DataFrame(negative_interactions, columns=['user_id', 'item_id', 'interacted'])])\n",
    "        \n",
    "        # Get the input data for the model\n",
    "        \n",
    "        interactions_df = pd.merge(interactions_df, users_df, on=['user_id'])\n",
    "        interactions_df = pd.merge(interactions_df, items_df, on=['item_id'])\n",
    "        \n",
    "        x = interactions_df.loc[:, user_features + item_features].values\n",
    "        y = interactions_df['interacted'].values\n",
    "    \n",
    "        self.model.fit(x, y)\n",
    "    \n",
    "    def recommend(self, users_df, items_df, n_recommendations=1):\n",
    "        \"\"\"\n",
    "        Serving of recommendations. Scores items in items_df for each user in users_df and returns \n",
    "        top n_recommendations for each user.\n",
    "        \n",
    "        :param pd.DataFrame users_df: DataFrame with users and their features for which recommendations should be generated.\n",
    "        :param pd.DataFrame items_df: DataFrame with items and their features which should be scored.\n",
    "        :param int n_recommendations: Number of recommendations to be returned for each user.\n",
    "        :return: DataFrame with user_id, item_id and score as columns returning n_recommendations top recommendations \n",
    "            for each user.\n",
    "        :rtype: pd.DataFrame\n",
    "        \"\"\"\n",
    "        \n",
    "        # Clean previous recommendations (iloc could be used alternatively)\n",
    "        self.recommender_df = self.recommender_df[:0]\n",
    "        \n",
    "        ########################\n",
    "        # Write your code here #\n",
    "        # Prepare users_df and items_df\n",
    "        # For users_df you need to merge user features from self.users_df to users_df \n",
    "        # (the users for which you generate recommendations).\n",
    "        # Note that for users who were not in the hotel before (which is true for most users)\n",
    "        # there will be no features in self.users_df. For such users you can initialize their features\n",
    "        # with all zeros (for instance with fillna(0)), but you can also try to use average feature\n",
    "        # values from self.users_df (this way you would trear a new user as an average user).\n",
    "        # For items you have to apply the prepare_items_df method to items_df.\n",
    "\n",
    "        users_df = pd.merge(users_df, self.users_df, on=['user_id'], how='left')\n",
    "        global_avg_length_of_stay = round(self.users_df[\"avg_length_of_stay\"].mean(), 2)\n",
    "        global_avg_room_price = round(self.users_df[\"avg_room_price\"].mean(), 2)\n",
    "\n",
    "        users_df = users_df.fillna({'avg_length_of_stay':global_avg_length_of_stay, 'avg_room_price':global_avg_room_price}).fillna(0)\n",
    "\n",
    "        items_df, items_features = prepare_items_df(items_df)\n",
    "\n",
    "        # Score the items\n",
    "\n",
    "        recommendations = pd.DataFrame(columns=['user_id', 'item_id', 'score'])\n",
    "        \n",
    "        for ix, user in users_df.iterrows():\n",
    "            ########################\n",
    "            # Write your code here #\n",
    "            # Create a Carthesian product of users from users_df and items from items_df\n",
    "            user_df = user.to_frame().transpose()\n",
    "\n",
    "            cart_prod_with_item_id = user_df.merge(items_df, how=\"cross\")\n",
    "            cart_prod = cart_prod_with_item_id.drop(columns=[\"user_id\", \"item_id\"])\n",
    "\n",
    "            ########################\n",
    "            # Write your code here #\n",
    "            # Use self.model.predict method to calculate scores for all records in the just created DataFrame\n",
    "            # of users and items\n",
    "            scores = self.model.predict(cart_prod)\n",
    "            \n",
    "            ########################\n",
    "            # Write your code here #\n",
    "            # Obtain item ids with the highest score and save those ids under the chosen_ids variable\n",
    "            # Do not exclude already booked items.\n",
    "            chosen_pos = np.argsort(-scores)[:n_recommendations]\n",
    "            chosen_ids = cart_prod_with_item_id.iloc[chosen_pos][\"item_id\"]\n",
    "\n",
    "            recommendations = []\n",
    "            for item_id in chosen_ids:\n",
    "                recommendations.append(\n",
    "                    {\n",
    "                        'user_id': user['user_id'],\n",
    "                        'item_id': item_id,\n",
    "                        'score': scores[item_id]\n",
    "                    }\n",
    "                )\n",
    "            \n",
    "            user_recommendations = pd.DataFrame(recommendations)\n",
    "\n",
    "            self.recommender_df = pd.concat([self.recommender_df, user_recommendations])\n",
    "\n",
    "        return self.recommender_df\n",
    "    \n",
    "    \n",
    "class LinearRegressionCBUIRecommender(ContentBasedUserItemRecommender):\n",
    "    \"\"\"\n",
    "    Linear regression recommender class based on user and item features.\n",
    "    \"\"\"\n",
    "    \n",
    "    def __init__(self, seed=6789, n_neg_per_pos=5, **model_params):\n",
    "        \"\"\"\n",
    "        Initialize base recommender params and variables.\n",
    "        \"\"\"\n",
    "        super().__init__(seed=seed, n_neg_per_pos=n_neg_per_pos)\n",
    "        self.model = LinearRegression()\n",
    "        \n",
    "        \n",
    "class SVRCBUIRecommender(ContentBasedUserItemRecommender):\n",
    "    \"\"\"\n",
    "    SVR recommender class based on user and item features.\n",
    "    \"\"\"\n",
    "    \n",
    "    def __init__(self, seed=6789, n_neg_per_pos=5, **model_params):\n",
    "        \"\"\"\n",
    "        Initialize base recommender params and variables.\n",
    "        \"\"\"\n",
    "        super().__init__(seed=seed, n_neg_per_pos=n_neg_per_pos)\n",
    "        if 'kernel' in model_params:\n",
    "            self.kernel = model_params['kernel']\n",
    "        else:\n",
    "            self.kernel = 'rbf'\n",
    "        if 'C' in model_params:\n",
    "            self.C = model_params['C']\n",
    "        else:\n",
    "            self.C = 1.0\n",
    "        if 'epsilon' in model_params:\n",
    "            self.epsilon = model_params['epsilon']\n",
    "        else:\n",
    "            self.epsilon = 0.1\n",
    "        self.model = SVR(kernel=self.kernel, C=self.C, epsilon=self.epsilon)\n",
    "        \n",
    "    \n",
    "class RandomForestCBUIRecommender(ContentBasedUserItemRecommender):\n",
    "    \"\"\"\n",
    "    Random forest recommender class based on user and item features.\n",
    "    \"\"\"\n",
    "    \n",
    "    def __init__(self, seed=6789, n_neg_per_pos=5, **model_params):\n",
    "        \"\"\"\n",
    "        Initialize base recommender params and variables.\n",
    "        \"\"\"\n",
    "        super().__init__(seed=seed, n_neg_per_pos=n_neg_per_pos)\n",
    "        if 'n_estimators' in model_params:\n",
    "            self.n_estimators = int(model_params['n_estimators'])\n",
    "        else:\n",
    "            self.n_estimators = 100\n",
    "        if 'max_depth' in model_params:\n",
    "            self.max_depth = int(model_params['max_depth'])\n",
    "        else:\n",
    "            self.max_depth = 30\n",
    "        if 'min_samples_split' in model_params:\n",
    "            self.min_samples_split = int(model_params['min_samples_split'])\n",
    "        else:\n",
    "            self.min_samples_split = 30\n",
    "        self.model = RandomForestRegressor(\n",
    "            n_estimators=self.n_estimators, max_depth=self.max_depth, min_samples_split=self.min_samples_split)\n",
    "    \n",
    "    \n",
    "class XGBoostCBUIRecommender(ContentBasedUserItemRecommender):\n",
    "    \"\"\"\n",
    "    XGBoost recommender class based on user and item features.\n",
    "    \"\"\"\n",
    "    \n",
    "    def __init__(self, seed=6789, n_neg_per_pos=5, **model_params):\n",
    "        \"\"\"\n",
    "        Initialize base recommender params and variables.\n",
    "        \"\"\"\n",
    "        super().__init__(seed=seed, n_neg_per_pos=n_neg_per_pos)\n",
    "        if 'n_estimators' in model_params:\n",
    "            self.n_estimators = int(model_params['n_estimators'])\n",
    "        else:\n",
    "            self.n_estimators = 100\n",
    "        if 'max_depth' in model_params:\n",
    "            self.max_depth = int(model_params['max_depth'])\n",
    "        else:\n",
    "            self.max_depth = 30\n",
    "        if 'min_samples_split' in model_params:\n",
    "            self.min_samples_split = int(model_params['min_samples_split'])\n",
    "        else:\n",
    "            self.min_samples_split = 30\n",
    "        if 'learning_rate' in model_params:\n",
    "            self.learning_rate = model_params['learning_rate']\n",
    "        else:\n",
    "            self.learning_rate = 30\n",
    "        self.model = GradientBoostingRegressor(\n",
    "            n_estimators=self.n_estimators, max_depth=self.max_depth, min_samples_split=self.min_samples_split,\n",
    "            learning_rate=self.learning_rate)    "
   ]
  },
  {
   "cell_type": "markdown",
   "id": "copyrighted-relative",
   "metadata": {},
   "source": [
    "# Quick test of the recommender"
   ]
  },
  {
   "cell_type": "code",
   "execution_count": 7,
   "id": "greatest-canon",
   "metadata": {},
   "outputs": [],
   "source": [
    "items_df = interactions_df.loc[:, ['item_id'] + base_item_features].drop_duplicates()"
   ]
  },
  {
   "cell_type": "code",
   "execution_count": 8,
   "id": "initial-capital",
   "metadata": {},
   "outputs": [],
   "source": [
    "# Fit method\n",
    "cb_user_item_recommender = RandomForestCBUIRecommender()\n",
    "cb_user_item_recommender.fit(interactions_df, None, None)"
   ]
  },
  {
   "cell_type": "code",
   "execution_count": 9,
   "id": "digital-consolidation",
   "metadata": {
    "scrolled": false
   },
   "outputs": [
    {
     "data": {
      "text/plain": "    user_id item_id     score            term length_of_stay_bucket rate_plan  \\\n0       1.0      34  0.998456       OffSeason                 [2-3]  Standard   \n1       1.0      32  0.996999       OffSeason                 [2-3]  Standard   \n2       1.0      80  0.995543      HighSeason                 [2-3]    Nonref   \n3       1.0       9  0.995280      HighSeason                 [2-3]  Standard   \n4       1.0     182  0.995280      HighSeason                 [2-3]    Nonref   \n5       1.0      40  0.994821       OffSeason                 [4-7]  Standard   \n6       1.0      53  0.994517      HighSeason                 [2-3]  Standard   \n7       1.0      28  0.994076       OffSeason                 [4-7]  Standard   \n8       1.0      56  0.993578       OffSeason                 [2-3]    Nonref   \n9       1.0     122  0.993307       OffSeason                 [4-7]    Nonref   \n10      2.0     118  0.987505  WinterVacation                 [2-3]    Nonref   \n11      2.0      44  0.976050  WinterVacation                 [2-3]  Standard   \n12      2.0      45  0.969410  WinterVacation                 [2-3]  Standard   \n13      2.0       2  0.968596  WinterVacation                 [2-3]  Standard   \n14      2.0       1  0.947704  WinterVacation                 [2-3]  Standard   \n15      2.0     117  0.943691  WinterVacation                 [2-3]    Nonref   \n16      2.0     139  0.924591  WinterVacation                 [2-3]    Nonref   \n17      2.0     546  0.848649  WinterVacation                 [2-3]  Standard   \n18      2.0     119  0.802426  WinterVacation                 [2-3]  Standard   \n19      2.0     470  0.799273  WinterVacation                 [2-3]    Nonref   \n20      3.0     118  0.987505  WinterVacation                 [2-3]    Nonref   \n21      3.0      44  0.976050  WinterVacation                 [2-3]  Standard   \n22      3.0      45  0.969410  WinterVacation                 [2-3]  Standard   \n23      3.0       2  0.968596  WinterVacation                 [2-3]  Standard   \n24      3.0       1  0.947704  WinterVacation                 [2-3]  Standard   \n25      3.0     117  0.943691  WinterVacation                 [2-3]    Nonref   \n26      3.0     139  0.924591  WinterVacation                 [2-3]    Nonref   \n27      3.0     546  0.848649  WinterVacation                 [2-3]  Standard   \n28      3.0     119  0.802426  WinterVacation                 [2-3]  Standard   \n29      3.0     470  0.799273  WinterVacation                 [2-3]    Nonref   \n30      4.0       3  1.000000  WinterVacation                 [4-7]  Standard   \n31      4.0      69  0.998373  WinterVacation                 [4-7]  Standard   \n32      4.0      43  0.959160  WinterVacation                 [4-7]  Standard   \n33      4.0     549  0.939482  WinterVacation                 [4-7]  Standard   \n34      4.0     130  0.899675  WinterVacation                 [4-7]    Nonref   \n35      4.0     494  0.896932  WinterVacation                 [4-7]    Nonref   \n36      4.0     438  0.882992  WinterVacation                 [4-7]    Nonref   \n37      4.0     461  0.861731  WinterVacation                 [4-7]    Nonref   \n38      4.0      46  0.786256  WinterVacation                 [4-7]  Standard   \n39      4.0     506  0.728081  WinterVacation                 [4-7]  Standard   \n40      5.0     480  0.920832  WinterVacation                 [4-7]    Nonref   \n41      5.0     705  0.872467  WinterVacation                 [4-7]  Standard   \n42      5.0     566  0.836798  WinterVacation                 [4-7]    Nonref   \n43      5.0       4  0.785622  WinterVacation                 [4-7]  Standard   \n44      5.0     190  0.645262          Easter                 [4-7]    Nonref   \n45      5.0     664  0.626290         NewYear                 [4-7]    Nonref   \n46      5.0     610  0.623949          Easter                 [4-7]  Standard   \n47      5.0     509  0.618775  WinterVacation                 [2-3]    Nonref   \n48      5.0     519  0.613620       Christmas                 [4-7]    Nonref   \n49      5.0     462  0.608150  WinterVacation                 [2-3]  Standard   \n\n   room_segment n_people_bucket weekend_stay  \n0     [160-260]           [3-4]        False  \n1     [160-260]           [2-2]         True  \n2     [160-260]           [3-4]        False  \n3     [160-260]           [3-4]         True  \n4     [160-260]           [3-4]         True  \n5     [160-260]           [1-1]         True  \n6     [160-260]           [3-4]        False  \n7     [160-260]           [3-4]        False  \n8     [160-260]           [2-2]         True  \n9     [160-260]           [3-4]        False  \n10    [160-260]           [3-4]         True  \n11    [160-260]           [2-2]         True  \n12    [160-260]           [3-4]         True  \n13    [160-260]           [2-2]        False  \n14    [160-260]           [3-4]        False  \n15    [160-260]           [2-2]         True  \n16    [160-260]           [3-4]        False  \n17    [160-260]           [1-1]         True  \n18    [160-260]           [1-1]        False  \n19    [160-260]         [5-inf]         True  \n20    [160-260]           [3-4]         True  \n21    [160-260]           [2-2]         True  \n22    [160-260]           [3-4]         True  \n23    [160-260]           [2-2]        False  \n24    [160-260]           [3-4]        False  \n25    [160-260]           [2-2]         True  \n26    [160-260]           [3-4]        False  \n27    [160-260]           [1-1]         True  \n28    [160-260]           [1-1]        False  \n29    [160-260]         [5-inf]         True  \n30    [160-260]           [3-4]         True  \n31    [160-260]           [2-2]         True  \n32    [160-260]           [3-4]        False  \n33    [160-260]           [2-2]        False  \n34    [160-260]           [3-4]         True  \n35    [160-260]           [3-4]        False  \n36    [160-260]           [2-2]         True  \n37    [160-260]           [2-2]        False  \n38    [160-260]           [1-1]         True  \n39    [160-260]           [1-1]        False  \n40      [0-160]           [2-2]         True  \n41      [0-160]           [2-2]         True  \n42      [0-160]           [2-2]        False  \n43      [0-160]           [2-2]        False  \n44      [0-160]           [2-2]         True  \n45      [0-160]           [2-2]         True  \n46      [0-160]           [2-2]         True  \n47      [0-160]           [2-2]         True  \n48      [0-160]           [2-2]         True  \n49      [0-160]           [2-2]         True  ",
      "text/html": "<div>\n<style scoped>\n    .dataframe tbody tr th:only-of-type {\n        vertical-align: middle;\n    }\n\n    .dataframe tbody tr th {\n        vertical-align: top;\n    }\n\n    .dataframe thead th {\n        text-align: right;\n    }\n</style>\n<table border=\"1\" class=\"dataframe\">\n  <thead>\n    <tr style=\"text-align: right;\">\n      <th></th>\n      <th>user_id</th>\n      <th>item_id</th>\n      <th>score</th>\n      <th>term</th>\n      <th>length_of_stay_bucket</th>\n      <th>rate_plan</th>\n      <th>room_segment</th>\n      <th>n_people_bucket</th>\n      <th>weekend_stay</th>\n    </tr>\n  </thead>\n  <tbody>\n    <tr>\n      <th>0</th>\n      <td>1.0</td>\n      <td>34</td>\n      <td>0.998456</td>\n      <td>OffSeason</td>\n      <td>[2-3]</td>\n      <td>Standard</td>\n      <td>[160-260]</td>\n      <td>[3-4]</td>\n      <td>False</td>\n    </tr>\n    <tr>\n      <th>1</th>\n      <td>1.0</td>\n      <td>32</td>\n      <td>0.996999</td>\n      <td>OffSeason</td>\n      <td>[2-3]</td>\n      <td>Standard</td>\n      <td>[160-260]</td>\n      <td>[2-2]</td>\n      <td>True</td>\n    </tr>\n    <tr>\n      <th>2</th>\n      <td>1.0</td>\n      <td>80</td>\n      <td>0.995543</td>\n      <td>HighSeason</td>\n      <td>[2-3]</td>\n      <td>Nonref</td>\n      <td>[160-260]</td>\n      <td>[3-4]</td>\n      <td>False</td>\n    </tr>\n    <tr>\n      <th>3</th>\n      <td>1.0</td>\n      <td>9</td>\n      <td>0.995280</td>\n      <td>HighSeason</td>\n      <td>[2-3]</td>\n      <td>Standard</td>\n      <td>[160-260]</td>\n      <td>[3-4]</td>\n      <td>True</td>\n    </tr>\n    <tr>\n      <th>4</th>\n      <td>1.0</td>\n      <td>182</td>\n      <td>0.995280</td>\n      <td>HighSeason</td>\n      <td>[2-3]</td>\n      <td>Nonref</td>\n      <td>[160-260]</td>\n      <td>[3-4]</td>\n      <td>True</td>\n    </tr>\n    <tr>\n      <th>5</th>\n      <td>1.0</td>\n      <td>40</td>\n      <td>0.994821</td>\n      <td>OffSeason</td>\n      <td>[4-7]</td>\n      <td>Standard</td>\n      <td>[160-260]</td>\n      <td>[1-1]</td>\n      <td>True</td>\n    </tr>\n    <tr>\n      <th>6</th>\n      <td>1.0</td>\n      <td>53</td>\n      <td>0.994517</td>\n      <td>HighSeason</td>\n      <td>[2-3]</td>\n      <td>Standard</td>\n      <td>[160-260]</td>\n      <td>[3-4]</td>\n      <td>False</td>\n    </tr>\n    <tr>\n      <th>7</th>\n      <td>1.0</td>\n      <td>28</td>\n      <td>0.994076</td>\n      <td>OffSeason</td>\n      <td>[4-7]</td>\n      <td>Standard</td>\n      <td>[160-260]</td>\n      <td>[3-4]</td>\n      <td>False</td>\n    </tr>\n    <tr>\n      <th>8</th>\n      <td>1.0</td>\n      <td>56</td>\n      <td>0.993578</td>\n      <td>OffSeason</td>\n      <td>[2-3]</td>\n      <td>Nonref</td>\n      <td>[160-260]</td>\n      <td>[2-2]</td>\n      <td>True</td>\n    </tr>\n    <tr>\n      <th>9</th>\n      <td>1.0</td>\n      <td>122</td>\n      <td>0.993307</td>\n      <td>OffSeason</td>\n      <td>[4-7]</td>\n      <td>Nonref</td>\n      <td>[160-260]</td>\n      <td>[3-4]</td>\n      <td>False</td>\n    </tr>\n    <tr>\n      <th>10</th>\n      <td>2.0</td>\n      <td>118</td>\n      <td>0.987505</td>\n      <td>WinterVacation</td>\n      <td>[2-3]</td>\n      <td>Nonref</td>\n      <td>[160-260]</td>\n      <td>[3-4]</td>\n      <td>True</td>\n    </tr>\n    <tr>\n      <th>11</th>\n      <td>2.0</td>\n      <td>44</td>\n      <td>0.976050</td>\n      <td>WinterVacation</td>\n      <td>[2-3]</td>\n      <td>Standard</td>\n      <td>[160-260]</td>\n      <td>[2-2]</td>\n      <td>True</td>\n    </tr>\n    <tr>\n      <th>12</th>\n      <td>2.0</td>\n      <td>45</td>\n      <td>0.969410</td>\n      <td>WinterVacation</td>\n      <td>[2-3]</td>\n      <td>Standard</td>\n      <td>[160-260]</td>\n      <td>[3-4]</td>\n      <td>True</td>\n    </tr>\n    <tr>\n      <th>13</th>\n      <td>2.0</td>\n      <td>2</td>\n      <td>0.968596</td>\n      <td>WinterVacation</td>\n      <td>[2-3]</td>\n      <td>Standard</td>\n      <td>[160-260]</td>\n      <td>[2-2]</td>\n      <td>False</td>\n    </tr>\n    <tr>\n      <th>14</th>\n      <td>2.0</td>\n      <td>1</td>\n      <td>0.947704</td>\n      <td>WinterVacation</td>\n      <td>[2-3]</td>\n      <td>Standard</td>\n      <td>[160-260]</td>\n      <td>[3-4]</td>\n      <td>False</td>\n    </tr>\n    <tr>\n      <th>15</th>\n      <td>2.0</td>\n      <td>117</td>\n      <td>0.943691</td>\n      <td>WinterVacation</td>\n      <td>[2-3]</td>\n      <td>Nonref</td>\n      <td>[160-260]</td>\n      <td>[2-2]</td>\n      <td>True</td>\n    </tr>\n    <tr>\n      <th>16</th>\n      <td>2.0</td>\n      <td>139</td>\n      <td>0.924591</td>\n      <td>WinterVacation</td>\n      <td>[2-3]</td>\n      <td>Nonref</td>\n      <td>[160-260]</td>\n      <td>[3-4]</td>\n      <td>False</td>\n    </tr>\n    <tr>\n      <th>17</th>\n      <td>2.0</td>\n      <td>546</td>\n      <td>0.848649</td>\n      <td>WinterVacation</td>\n      <td>[2-3]</td>\n      <td>Standard</td>\n      <td>[160-260]</td>\n      <td>[1-1]</td>\n      <td>True</td>\n    </tr>\n    <tr>\n      <th>18</th>\n      <td>2.0</td>\n      <td>119</td>\n      <td>0.802426</td>\n      <td>WinterVacation</td>\n      <td>[2-3]</td>\n      <td>Standard</td>\n      <td>[160-260]</td>\n      <td>[1-1]</td>\n      <td>False</td>\n    </tr>\n    <tr>\n      <th>19</th>\n      <td>2.0</td>\n      <td>470</td>\n      <td>0.799273</td>\n      <td>WinterVacation</td>\n      <td>[2-3]</td>\n      <td>Nonref</td>\n      <td>[160-260]</td>\n      <td>[5-inf]</td>\n      <td>True</td>\n    </tr>\n    <tr>\n      <th>20</th>\n      <td>3.0</td>\n      <td>118</td>\n      <td>0.987505</td>\n      <td>WinterVacation</td>\n      <td>[2-3]</td>\n      <td>Nonref</td>\n      <td>[160-260]</td>\n      <td>[3-4]</td>\n      <td>True</td>\n    </tr>\n    <tr>\n      <th>21</th>\n      <td>3.0</td>\n      <td>44</td>\n      <td>0.976050</td>\n      <td>WinterVacation</td>\n      <td>[2-3]</td>\n      <td>Standard</td>\n      <td>[160-260]</td>\n      <td>[2-2]</td>\n      <td>True</td>\n    </tr>\n    <tr>\n      <th>22</th>\n      <td>3.0</td>\n      <td>45</td>\n      <td>0.969410</td>\n      <td>WinterVacation</td>\n      <td>[2-3]</td>\n      <td>Standard</td>\n      <td>[160-260]</td>\n      <td>[3-4]</td>\n      <td>True</td>\n    </tr>\n    <tr>\n      <th>23</th>\n      <td>3.0</td>\n      <td>2</td>\n      <td>0.968596</td>\n      <td>WinterVacation</td>\n      <td>[2-3]</td>\n      <td>Standard</td>\n      <td>[160-260]</td>\n      <td>[2-2]</td>\n      <td>False</td>\n    </tr>\n    <tr>\n      <th>24</th>\n      <td>3.0</td>\n      <td>1</td>\n      <td>0.947704</td>\n      <td>WinterVacation</td>\n      <td>[2-3]</td>\n      <td>Standard</td>\n      <td>[160-260]</td>\n      <td>[3-4]</td>\n      <td>False</td>\n    </tr>\n    <tr>\n      <th>25</th>\n      <td>3.0</td>\n      <td>117</td>\n      <td>0.943691</td>\n      <td>WinterVacation</td>\n      <td>[2-3]</td>\n      <td>Nonref</td>\n      <td>[160-260]</td>\n      <td>[2-2]</td>\n      <td>True</td>\n    </tr>\n    <tr>\n      <th>26</th>\n      <td>3.0</td>\n      <td>139</td>\n      <td>0.924591</td>\n      <td>WinterVacation</td>\n      <td>[2-3]</td>\n      <td>Nonref</td>\n      <td>[160-260]</td>\n      <td>[3-4]</td>\n      <td>False</td>\n    </tr>\n    <tr>\n      <th>27</th>\n      <td>3.0</td>\n      <td>546</td>\n      <td>0.848649</td>\n      <td>WinterVacation</td>\n      <td>[2-3]</td>\n      <td>Standard</td>\n      <td>[160-260]</td>\n      <td>[1-1]</td>\n      <td>True</td>\n    </tr>\n    <tr>\n      <th>28</th>\n      <td>3.0</td>\n      <td>119</td>\n      <td>0.802426</td>\n      <td>WinterVacation</td>\n      <td>[2-3]</td>\n      <td>Standard</td>\n      <td>[160-260]</td>\n      <td>[1-1]</td>\n      <td>False</td>\n    </tr>\n    <tr>\n      <th>29</th>\n      <td>3.0</td>\n      <td>470</td>\n      <td>0.799273</td>\n      <td>WinterVacation</td>\n      <td>[2-3]</td>\n      <td>Nonref</td>\n      <td>[160-260]</td>\n      <td>[5-inf]</td>\n      <td>True</td>\n    </tr>\n    <tr>\n      <th>30</th>\n      <td>4.0</td>\n      <td>3</td>\n      <td>1.000000</td>\n      <td>WinterVacation</td>\n      <td>[4-7]</td>\n      <td>Standard</td>\n      <td>[160-260]</td>\n      <td>[3-4]</td>\n      <td>True</td>\n    </tr>\n    <tr>\n      <th>31</th>\n      <td>4.0</td>\n      <td>69</td>\n      <td>0.998373</td>\n      <td>WinterVacation</td>\n      <td>[4-7]</td>\n      <td>Standard</td>\n      <td>[160-260]</td>\n      <td>[2-2]</td>\n      <td>True</td>\n    </tr>\n    <tr>\n      <th>32</th>\n      <td>4.0</td>\n      <td>43</td>\n      <td>0.959160</td>\n      <td>WinterVacation</td>\n      <td>[4-7]</td>\n      <td>Standard</td>\n      <td>[160-260]</td>\n      <td>[3-4]</td>\n      <td>False</td>\n    </tr>\n    <tr>\n      <th>33</th>\n      <td>4.0</td>\n      <td>549</td>\n      <td>0.939482</td>\n      <td>WinterVacation</td>\n      <td>[4-7]</td>\n      <td>Standard</td>\n      <td>[160-260]</td>\n      <td>[2-2]</td>\n      <td>False</td>\n    </tr>\n    <tr>\n      <th>34</th>\n      <td>4.0</td>\n      <td>130</td>\n      <td>0.899675</td>\n      <td>WinterVacation</td>\n      <td>[4-7]</td>\n      <td>Nonref</td>\n      <td>[160-260]</td>\n      <td>[3-4]</td>\n      <td>True</td>\n    </tr>\n    <tr>\n      <th>35</th>\n      <td>4.0</td>\n      <td>494</td>\n      <td>0.896932</td>\n      <td>WinterVacation</td>\n      <td>[4-7]</td>\n      <td>Nonref</td>\n      <td>[160-260]</td>\n      <td>[3-4]</td>\n      <td>False</td>\n    </tr>\n    <tr>\n      <th>36</th>\n      <td>4.0</td>\n      <td>438</td>\n      <td>0.882992</td>\n      <td>WinterVacation</td>\n      <td>[4-7]</td>\n      <td>Nonref</td>\n      <td>[160-260]</td>\n      <td>[2-2]</td>\n      <td>True</td>\n    </tr>\n    <tr>\n      <th>37</th>\n      <td>4.0</td>\n      <td>461</td>\n      <td>0.861731</td>\n      <td>WinterVacation</td>\n      <td>[4-7]</td>\n      <td>Nonref</td>\n      <td>[160-260]</td>\n      <td>[2-2]</td>\n      <td>False</td>\n    </tr>\n    <tr>\n      <th>38</th>\n      <td>4.0</td>\n      <td>46</td>\n      <td>0.786256</td>\n      <td>WinterVacation</td>\n      <td>[4-7]</td>\n      <td>Standard</td>\n      <td>[160-260]</td>\n      <td>[1-1]</td>\n      <td>True</td>\n    </tr>\n    <tr>\n      <th>39</th>\n      <td>4.0</td>\n      <td>506</td>\n      <td>0.728081</td>\n      <td>WinterVacation</td>\n      <td>[4-7]</td>\n      <td>Standard</td>\n      <td>[160-260]</td>\n      <td>[1-1]</td>\n      <td>False</td>\n    </tr>\n    <tr>\n      <th>40</th>\n      <td>5.0</td>\n      <td>480</td>\n      <td>0.920832</td>\n      <td>WinterVacation</td>\n      <td>[4-7]</td>\n      <td>Nonref</td>\n      <td>[0-160]</td>\n      <td>[2-2]</td>\n      <td>True</td>\n    </tr>\n    <tr>\n      <th>41</th>\n      <td>5.0</td>\n      <td>705</td>\n      <td>0.872467</td>\n      <td>WinterVacation</td>\n      <td>[4-7]</td>\n      <td>Standard</td>\n      <td>[0-160]</td>\n      <td>[2-2]</td>\n      <td>True</td>\n    </tr>\n    <tr>\n      <th>42</th>\n      <td>5.0</td>\n      <td>566</td>\n      <td>0.836798</td>\n      <td>WinterVacation</td>\n      <td>[4-7]</td>\n      <td>Nonref</td>\n      <td>[0-160]</td>\n      <td>[2-2]</td>\n      <td>False</td>\n    </tr>\n    <tr>\n      <th>43</th>\n      <td>5.0</td>\n      <td>4</td>\n      <td>0.785622</td>\n      <td>WinterVacation</td>\n      <td>[4-7]</td>\n      <td>Standard</td>\n      <td>[0-160]</td>\n      <td>[2-2]</td>\n      <td>False</td>\n    </tr>\n    <tr>\n      <th>44</th>\n      <td>5.0</td>\n      <td>190</td>\n      <td>0.645262</td>\n      <td>Easter</td>\n      <td>[4-7]</td>\n      <td>Nonref</td>\n      <td>[0-160]</td>\n      <td>[2-2]</td>\n      <td>True</td>\n    </tr>\n    <tr>\n      <th>45</th>\n      <td>5.0</td>\n      <td>664</td>\n      <td>0.626290</td>\n      <td>NewYear</td>\n      <td>[4-7]</td>\n      <td>Nonref</td>\n      <td>[0-160]</td>\n      <td>[2-2]</td>\n      <td>True</td>\n    </tr>\n    <tr>\n      <th>46</th>\n      <td>5.0</td>\n      <td>610</td>\n      <td>0.623949</td>\n      <td>Easter</td>\n      <td>[4-7]</td>\n      <td>Standard</td>\n      <td>[0-160]</td>\n      <td>[2-2]</td>\n      <td>True</td>\n    </tr>\n    <tr>\n      <th>47</th>\n      <td>5.0</td>\n      <td>509</td>\n      <td>0.618775</td>\n      <td>WinterVacation</td>\n      <td>[2-3]</td>\n      <td>Nonref</td>\n      <td>[0-160]</td>\n      <td>[2-2]</td>\n      <td>True</td>\n    </tr>\n    <tr>\n      <th>48</th>\n      <td>5.0</td>\n      <td>519</td>\n      <td>0.613620</td>\n      <td>Christmas</td>\n      <td>[4-7]</td>\n      <td>Nonref</td>\n      <td>[0-160]</td>\n      <td>[2-2]</td>\n      <td>True</td>\n    </tr>\n    <tr>\n      <th>49</th>\n      <td>5.0</td>\n      <td>462</td>\n      <td>0.608150</td>\n      <td>WinterVacation</td>\n      <td>[2-3]</td>\n      <td>Standard</td>\n      <td>[0-160]</td>\n      <td>[2-2]</td>\n      <td>True</td>\n    </tr>\n  </tbody>\n</table>\n</div>"
     },
     "metadata": {},
     "output_type": "display_data"
    }
   ],
   "source": [
    "# Recommender method\n",
    "\n",
    "recommendations = cb_user_item_recommender.recommend(pd.DataFrame([[1], [2], [3], [4], [5]], columns=['user_id']), interactions_df, 10)\n",
    "\n",
    "recommendations = pd.merge(recommendations, items_df, on='item_id', how='left')\n",
    "display(recommendations)"
   ]
  },
  {
   "cell_type": "markdown",
   "id": "advanced-eleven",
   "metadata": {},
   "source": [
    "# Tuning method"
   ]
  },
  {
   "cell_type": "code",
   "execution_count": 10,
   "id": "strange-alaska",
   "metadata": {},
   "outputs": [],
   "source": [
    "from evaluation_and_testing.testing import evaluate_train_test_split_implicit\n",
    "\n",
    "seed = 6789"
   ]
  },
  {
   "cell_type": "code",
   "execution_count": 11,
   "id": "stable-theta",
   "metadata": {},
   "outputs": [],
   "source": [
    "from hyperopt import hp, fmin, tpe, Trials\n",
    "import traceback\n",
    "\n",
    "def tune_recommender(recommender_class, interactions_df, items_df, \n",
    "                     param_space, max_evals=1, show_progressbar=True, seed=6789):\n",
    "    # Split into train_validation and test sets\n",
    "\n",
    "    shuffle = np.arange(len(interactions_df))\n",
    "    rng = np.random.RandomState(seed=seed)\n",
    "    rng.shuffle(shuffle)\n",
    "    shuffle = list(shuffle)\n",
    "\n",
    "    train_test_split = 0.8\n",
    "    split_index = int(len(interactions_df) * train_test_split)\n",
    "\n",
    "    train_validation = interactions_df.iloc[shuffle[:split_index]]\n",
    "    test = interactions_df.iloc[shuffle[split_index:]]\n",
    "\n",
    "    # Tune\n",
    "\n",
    "    def loss(tuned_params):\n",
    "        recommender = recommender_class(seed=seed, **tuned_params)\n",
    "        hr1, hr3, hr5, hr10, ndcg1, ndcg3, ndcg5, ndcg10 = evaluate_train_test_split_implicit(\n",
    "            recommender, train_validation, items_df, seed=seed)\n",
    "        return -hr10\n",
    "\n",
    "    n_tries = 1\n",
    "    succeded = False\n",
    "    try_id = 0\n",
    "    while not succeded and try_id < n_tries:\n",
    "        try:\n",
    "            trials = Trials()\n",
    "            best_param_set = fmin(loss, space=param_space, algo=tpe.suggest, \n",
    "                                  max_evals=max_evals, show_progressbar=show_progressbar, trials=trials, verbose=True)\n",
    "            succeded = True\n",
    "        except:\n",
    "            traceback.print_exc()\n",
    "            try_id += 1\n",
    "            \n",
    "    if not succeded:\n",
    "        return None\n",
    "        \n",
    "    # Validate\n",
    "    \n",
    "    recommender = recommender_class(seed=seed, **best_param_set)\n",
    "\n",
    "    results = [[recommender_class.__name__] + list(evaluate_train_test_split_implicit(\n",
    "        recommender, {'train': train_validation, 'test': test}, items_df, seed=seed))]\n",
    "\n",
    "    results = pd.DataFrame(results, \n",
    "                           columns=['Recommender', 'HR@1', 'HR@3', 'HR@5', 'HR@10', 'NDCG@1', 'NDCG@3', 'NDCG@5', 'NDCG@10'])\n",
    "\n",
    "    display(results)\n",
    "    \n",
    "    return best_param_set"
   ]
  },
  {
   "cell_type": "markdown",
   "id": "spiritual-orbit",
   "metadata": {},
   "source": [
    "## Tuning of the recommender\n",
    "\n",
    "<span style=\"color:red\"><font size=\"4\">**Task:**</font></span><br> \n",
    "Tune your models using the code below. You only need to put the class name of your recommender and choose an appropriate parameter space."
   ]
  },
  {
   "cell_type": "code",
   "execution_count": 13,
   "id": "dependent-capital",
   "metadata": {},
   "outputs": [
    {
     "name": "stdout",
     "output_type": "stream",
     "text": [
      "100%|██████████| 10/10 [16:12<00:00, 97.25s/trial, best loss: -0.2166737198476513] \n"
     ]
    },
    {
     "data": {
      "text/plain": "                       Recommender      HR@1      HR@3      HR@5     HR@10  \\\n0  LinearRegressionCBUIRecommender  0.042091  0.093347  0.145282  0.228445   \n\n     NDCG@1   NDCG@3    NDCG@5  NDCG@10  \n0  0.042091  0.07203  0.092835  0.12023  ",
      "text/html": "<div>\n<style scoped>\n    .dataframe tbody tr th:only-of-type {\n        vertical-align: middle;\n    }\n\n    .dataframe tbody tr th {\n        vertical-align: top;\n    }\n\n    .dataframe thead th {\n        text-align: right;\n    }\n</style>\n<table border=\"1\" class=\"dataframe\">\n  <thead>\n    <tr style=\"text-align: right;\">\n      <th></th>\n      <th>Recommender</th>\n      <th>HR@1</th>\n      <th>HR@3</th>\n      <th>HR@5</th>\n      <th>HR@10</th>\n      <th>NDCG@1</th>\n      <th>NDCG@3</th>\n      <th>NDCG@5</th>\n      <th>NDCG@10</th>\n    </tr>\n  </thead>\n  <tbody>\n    <tr>\n      <th>0</th>\n      <td>LinearRegressionCBUIRecommender</td>\n      <td>0.042091</td>\n      <td>0.093347</td>\n      <td>0.145282</td>\n      <td>0.228445</td>\n      <td>0.042091</td>\n      <td>0.07203</td>\n      <td>0.092835</td>\n      <td>0.12023</td>\n    </tr>\n  </tbody>\n</table>\n</div>"
     },
     "metadata": {},
     "output_type": "display_data"
    },
    {
     "name": "stdout",
     "output_type": "stream",
     "text": [
      "Best parameters:\n",
      "{'n_neg_per_pos': 6.0}\n"
     ]
    }
   ],
   "source": [
    "param_space = {\n",
    "    'n_neg_per_pos': hp.quniform('n_neg_per_pos', 1, 10, 1)\n",
    "}\n",
    "\n",
    "best_param_set = tune_recommender(LinearRegressionCBUIRecommender, interactions_df, items_df,\n",
    "                                  param_space, max_evals=10, show_progressbar=True, seed=seed)\n",
    "\n",
    "print(\"Best parameters:\")\n",
    "print(best_param_set)"
   ]
  },
  {
   "cell_type": "code",
   "execution_count": 61,
   "id": "palestinian-clearance",
   "metadata": {},
   "outputs": [
    {
     "name": "stdout",
     "output_type": "stream",
     "text": [
      "  0%|          | 0/100 [24:21<?, ?trial/s, best loss=?]\n",
      "Best parameters:\n",
      "None\n"
     ]
    },
    {
     "name": "stderr",
     "output_type": "stream",
     "text": [
      "Traceback (most recent call last):\n",
      "  File \"C:\\Users\\s452645\\AppData\\Local\\Temp\\25/ipykernel_17196/2884871753.py\", line 33, in tune_recommender\n",
      "    best_param_set = fmin(loss, space=param_space, algo=tpe.suggest,\n",
      "  File \"j:\\.AppData\\Python\\Python38\\site-packages\\hyperopt\\fmin.py\", line 540, in fmin\n",
      "    return trials.fmin(\n",
      "  File \"j:\\.AppData\\Python\\Python38\\site-packages\\hyperopt\\base.py\", line 671, in fmin\n",
      "    return fmin(\n",
      "  File \"j:\\.AppData\\Python\\Python38\\site-packages\\hyperopt\\fmin.py\", line 586, in fmin\n",
      "    rval.exhaust()\n",
      "  File \"j:\\.AppData\\Python\\Python38\\site-packages\\hyperopt\\fmin.py\", line 364, in exhaust\n",
      "    self.run(self.max_evals - n_done, block_until_done=self.asynchronous)\n",
      "  File \"j:\\.AppData\\Python\\Python38\\site-packages\\hyperopt\\fmin.py\", line 300, in run\n",
      "    self.serial_evaluate()\n",
      "  File \"j:\\.AppData\\Python\\Python38\\site-packages\\hyperopt\\fmin.py\", line 178, in serial_evaluate\n",
      "    result = self.domain.evaluate(spec, ctrl)\n",
      "  File \"j:\\.AppData\\Python\\Python38\\site-packages\\hyperopt\\base.py\", line 892, in evaluate\n",
      "    rval = self.fn(pyll_rval)\n",
      "  File \"C:\\Users\\s452645\\AppData\\Local\\Temp\\25/ipykernel_17196/2884871753.py\", line 23, in loss\n",
      "    hr1, hr3, hr5, hr10, ndcg1, ndcg3, ndcg5, ndcg10 = evaluate_train_test_split_implicit(\n",
      "  File \"J:\\Desktop\\2021-22\\Letni\\Systemy rekomendacyjne\\recommender-systems-class\\evaluation_and_testing\\testing.py\", line 102, in evaluate_train_test_split_implicit\n",
      "    recommendations = recommender.recommend(pd.DataFrame([user_id], columns=['user_id']),\n",
      "  File \"C:\\Users\\s452645\\AppData\\Local\\Temp\\25/ipykernel_17196/2453278079.py\", line 143, in recommend\n",
      "    scores = self.model.predict(cart_prod)\n",
      "  File \"c:\\software\\python3\\lib\\site-packages\\sklearn\\svm\\_base.py\", line 344, in predict\n",
      "    return predict(X)\n",
      "  File \"c:\\software\\python3\\lib\\site-packages\\sklearn\\svm\\_base.py\", line 361, in _dense_predict\n",
      "    return libsvm.predict(\n",
      "KeyboardInterrupt\n"
     ]
    }
   ],
   "source": [
    "param_space = {\n",
    "    'n_neg_per_pos': hp.quniform('n_neg_per_pos', 1, 10, 1),\n",
    "    'C': hp.loguniform('C', np.log(0.01), np.log(100.0))\n",
    "}\n",
    "\n",
    "best_param_set = tune_recommender(SVRCBUIRecommender, interactions_df, items_df,\n",
    "                                  param_space, max_evals=100, show_progressbar=True, seed=seed)\n",
    "\n",
    "print(\"Best parameters:\")\n",
    "print(best_param_set)"
   ]
  },
  {
   "cell_type": "code",
   "execution_count": 12,
   "id": "seasonal-header",
   "metadata": {},
   "outputs": [
    {
     "name": "stdout",
     "output_type": "stream",
     "text": [
      "100%|██████████| 100/100 [2:38:23<00:00, 95.04s/trial, best loss: -0.1955141768937791]  \n"
     ]
    },
    {
     "data": {
      "text/plain": "                   Recommender      HR@1      HR@3      HR@5     HR@10  \\\n0  RandomForestCBUIRecommender  0.005092  0.077054  0.101154  0.175153   \n\n     NDCG@1    NDCG@3    NDCG@5   NDCG@10  \n0  0.005092  0.045739  0.055241  0.079024  ",
      "text/html": "<div>\n<style scoped>\n    .dataframe tbody tr th:only-of-type {\n        vertical-align: middle;\n    }\n\n    .dataframe tbody tr th {\n        vertical-align: top;\n    }\n\n    .dataframe thead th {\n        text-align: right;\n    }\n</style>\n<table border=\"1\" class=\"dataframe\">\n  <thead>\n    <tr style=\"text-align: right;\">\n      <th></th>\n      <th>Recommender</th>\n      <th>HR@1</th>\n      <th>HR@3</th>\n      <th>HR@5</th>\n      <th>HR@10</th>\n      <th>NDCG@1</th>\n      <th>NDCG@3</th>\n      <th>NDCG@5</th>\n      <th>NDCG@10</th>\n    </tr>\n  </thead>\n  <tbody>\n    <tr>\n      <th>0</th>\n      <td>RandomForestCBUIRecommender</td>\n      <td>0.005092</td>\n      <td>0.077054</td>\n      <td>0.101154</td>\n      <td>0.175153</td>\n      <td>0.005092</td>\n      <td>0.045739</td>\n      <td>0.055241</td>\n      <td>0.079024</td>\n    </tr>\n  </tbody>\n</table>\n</div>"
     },
     "metadata": {},
     "output_type": "display_data"
    },
    {
     "name": "stdout",
     "output_type": "stream",
     "text": [
      "Best parameters:\n",
      "{'max_depth': 3.0, 'min_samples_split': 13.0, 'n_estimators': 168.0, 'n_neg_per_pos': 1.0}\n"
     ]
    }
   ],
   "source": [
    "param_space = {\n",
    "    'n_neg_per_pos': hp.quniform('n_neg_per_pos', 1, 10, 1),\n",
    "    'n_estimators': hp.quniform('n_estimators', 30, 300, 1),\n",
    "    'max_depth': hp.quniform('max_depth', 2, 10, 1),\n",
    "    'min_samples_split': hp.quniform('min_samples_split', 2, 30, 1)\n",
    "}\n",
    "\n",
    "best_param_set = tune_recommender(RandomForestCBUIRecommender, interactions_df, items_df,\n",
    "                                  param_space, max_evals=100, show_progressbar=True, seed=seed)\n",
    "\n",
    "print(\"Best parameters:\")\n",
    "print(best_param_set)"
   ]
  },
  {
   "cell_type": "code",
   "execution_count": 12,
   "id": "moved-gothic",
   "metadata": {},
   "outputs": [
    {
     "name": "stdout",
     "output_type": "stream",
     "text": [
      "100%|██████████| 300/300 [9:41:47<00:00, 116.36s/trial, best loss: -0.20651713922979265]  \n"
     ]
    },
    {
     "data": {
      "text/plain": "              Recommender      HR@1      HR@3      HR@5     HR@10    NDCG@1  \\\n0  XGBoostCBUIRecommender  0.033944  0.089952  0.136796  0.218601  0.033944   \n\n     NDCG@3    NDCG@5   NDCG@10  \n0  0.063726  0.082666  0.109818  ",
      "text/html": "<div>\n<style scoped>\n    .dataframe tbody tr th:only-of-type {\n        vertical-align: middle;\n    }\n\n    .dataframe tbody tr th {\n        vertical-align: top;\n    }\n\n    .dataframe thead th {\n        text-align: right;\n    }\n</style>\n<table border=\"1\" class=\"dataframe\">\n  <thead>\n    <tr style=\"text-align: right;\">\n      <th></th>\n      <th>Recommender</th>\n      <th>HR@1</th>\n      <th>HR@3</th>\n      <th>HR@5</th>\n      <th>HR@10</th>\n      <th>NDCG@1</th>\n      <th>NDCG@3</th>\n      <th>NDCG@5</th>\n      <th>NDCG@10</th>\n    </tr>\n  </thead>\n  <tbody>\n    <tr>\n      <th>0</th>\n      <td>XGBoostCBUIRecommender</td>\n      <td>0.033944</td>\n      <td>0.089952</td>\n      <td>0.136796</td>\n      <td>0.218601</td>\n      <td>0.033944</td>\n      <td>0.063726</td>\n      <td>0.082666</td>\n      <td>0.109818</td>\n    </tr>\n  </tbody>\n</table>\n</div>"
     },
     "metadata": {},
     "output_type": "display_data"
    },
    {
     "name": "stdout",
     "output_type": "stream",
     "text": [
      "Best parameters:\n",
      "{'learning_rate': 0.004366124543189522, 'max_depth': 2.0, 'min_samples_split': 5.0, 'n_estimators': 276.0, 'n_neg_per_pos': 10.0}\n"
     ]
    }
   ],
   "source": [
    "# This tuning may take around 12 hours\n",
    "\n",
    "param_space = {\n",
    "    'n_neg_per_pos': hp.quniform('n_neg_per_pos', 1, 10, 1),\n",
    "    'n_estimators': hp.quniform('n_estimators', 10, 300, 1),\n",
    "    'max_depth': hp.quniform('max_depth', 2, 10, 1),\n",
    "    'min_samples_split': hp.quniform('min_samples_split', 2, 30, 1),\n",
    "    'learning_rate': hp.loguniform('learning_rate', np.log(0.001), np.log(0.1))\n",
    "}\n",
    "\n",
    "best_param_set = tune_recommender(XGBoostCBUIRecommender, interactions_df, items_df,\n",
    "                                  param_space, max_evals=300, show_progressbar=True, seed=seed)\n",
    "\n",
    "print(\"Best parameters:\")\n",
    "print(best_param_set)"
   ]
  },
  {
   "cell_type": "markdown",
   "id": "accredited-strap",
   "metadata": {},
   "source": [
    "# Final evaluation\n",
    "\n",
    "<span style=\"color:red\"><font size=\"4\">**Task:**</font></span><br> \n",
    "Run the final evaluation of your recommender and present its results against the Amazon recommender's results. You can present results for several of your recommenders. You just need to give the class name of your recommender and its tuned parameters below. If you present results for several recommenders, you should add a separate cell for each recommender and change the names of the DataFrames containing results."
   ]
  },
  {
   "cell_type": "code",
   "execution_count": 14,
   "id": "given-homework",
   "metadata": {},
   "outputs": [
    {
     "data": {
      "text/plain": "                       Recommender      HR@1      HR@3      HR@5     HR@10  \\\n0  LinearRegressionCBUIRecommender  0.042091  0.093347  0.145282  0.228445   \n\n     NDCG@1   NDCG@3    NDCG@5  NDCG@10  \n0  0.042091  0.07203  0.092835  0.12023  ",
      "text/html": "<div>\n<style scoped>\n    .dataframe tbody tr th:only-of-type {\n        vertical-align: middle;\n    }\n\n    .dataframe tbody tr th {\n        vertical-align: top;\n    }\n\n    .dataframe thead th {\n        text-align: right;\n    }\n</style>\n<table border=\"1\" class=\"dataframe\">\n  <thead>\n    <tr style=\"text-align: right;\">\n      <th></th>\n      <th>Recommender</th>\n      <th>HR@1</th>\n      <th>HR@3</th>\n      <th>HR@5</th>\n      <th>HR@10</th>\n      <th>NDCG@1</th>\n      <th>NDCG@3</th>\n      <th>NDCG@5</th>\n      <th>NDCG@10</th>\n    </tr>\n  </thead>\n  <tbody>\n    <tr>\n      <th>0</th>\n      <td>LinearRegressionCBUIRecommender</td>\n      <td>0.042091</td>\n      <td>0.093347</td>\n      <td>0.145282</td>\n      <td>0.228445</td>\n      <td>0.042091</td>\n      <td>0.07203</td>\n      <td>0.092835</td>\n      <td>0.12023</td>\n    </tr>\n  </tbody>\n</table>\n</div>"
     },
     "metadata": {},
     "output_type": "display_data"
    }
   ],
   "source": [
    "cb_user_item_recommender = LinearRegressionCBUIRecommender(\n",
    "    **{'n_neg_per_pos': 6})  # Initialize your recommender here with the best params from tuning\n",
    "\n",
    "# Give the name of your recommender in the line below\n",
    "linear_cbui_tts_results = [['LinearRegressionCBUIRecommender'] + list(evaluate_train_test_split_implicit(\n",
    "    cb_user_item_recommender, interactions_df, items_df))]\n",
    "\n",
    "linear_cbui_tts_results = pd.DataFrame(\n",
    "    linear_cbui_tts_results, columns=['Recommender', 'HR@1', 'HR@3', 'HR@5', 'HR@10', 'NDCG@1', 'NDCG@3', 'NDCG@5', 'NDCG@10'])\n",
    "\n",
    "display(linear_cbui_tts_results)"
   ]
  },
  {
   "cell_type": "code",
   "execution_count": 15,
   "id": "suited-nomination",
   "metadata": {},
   "outputs": [
    {
     "data": {
      "text/plain": "         Recommender      HR@1      HR@3      HR@5     HR@10    NDCG@1  \\\n0  AmazonRecommender  0.037339  0.101494  0.143245  0.215207  0.037339   \n\n     NDCG@3    NDCG@5  NDCG@10  \n0  0.073816  0.091083  0.11423  ",
      "text/html": "<div>\n<style scoped>\n    .dataframe tbody tr th:only-of-type {\n        vertical-align: middle;\n    }\n\n    .dataframe tbody tr th {\n        vertical-align: top;\n    }\n\n    .dataframe thead th {\n        text-align: right;\n    }\n</style>\n<table border=\"1\" class=\"dataframe\">\n  <thead>\n    <tr style=\"text-align: right;\">\n      <th></th>\n      <th>Recommender</th>\n      <th>HR@1</th>\n      <th>HR@3</th>\n      <th>HR@5</th>\n      <th>HR@10</th>\n      <th>NDCG@1</th>\n      <th>NDCG@3</th>\n      <th>NDCG@5</th>\n      <th>NDCG@10</th>\n    </tr>\n  </thead>\n  <tbody>\n    <tr>\n      <th>0</th>\n      <td>AmazonRecommender</td>\n      <td>0.037339</td>\n      <td>0.101494</td>\n      <td>0.143245</td>\n      <td>0.215207</td>\n      <td>0.037339</td>\n      <td>0.073816</td>\n      <td>0.091083</td>\n      <td>0.11423</td>\n    </tr>\n  </tbody>\n</table>\n</div>"
     },
     "metadata": {},
     "output_type": "display_data"
    }
   ],
   "source": [
    "from recommenders.amazon_recommender import AmazonRecommender\n",
    "\n",
    "amazon_recommender = AmazonRecommender()\n",
    "\n",
    "amazon_tts_results = [['AmazonRecommender'] + list(evaluate_train_test_split_implicit(\n",
    "    amazon_recommender, interactions_df, items_df))]\n",
    "\n",
    "amazon_tts_results = pd.DataFrame(\n",
    "    amazon_tts_results, columns=['Recommender', 'HR@1', 'HR@3', 'HR@5', 'HR@10', 'NDCG@1', 'NDCG@3', 'NDCG@5', 'NDCG@10'])\n",
    "\n",
    "display(amazon_tts_results)"
   ]
  },
  {
   "cell_type": "code",
   "execution_count": 16,
   "id": "moderate-printing",
   "metadata": {},
   "outputs": [
    {
     "data": {
      "text/plain": "                       Recommender      HR@1      HR@3      HR@5     HR@10  \\\n0  LinearRegressionCBUIRecommender  0.042091  0.093347  0.145282  0.228445   \n1                AmazonRecommender  0.037339  0.101494  0.143245  0.215207   \n\n     NDCG@1    NDCG@3    NDCG@5  NDCG@10  \n0  0.042091  0.072030  0.092835  0.12023  \n1  0.037339  0.073816  0.091083  0.11423  ",
      "text/html": "<div>\n<style scoped>\n    .dataframe tbody tr th:only-of-type {\n        vertical-align: middle;\n    }\n\n    .dataframe tbody tr th {\n        vertical-align: top;\n    }\n\n    .dataframe thead th {\n        text-align: right;\n    }\n</style>\n<table border=\"1\" class=\"dataframe\">\n  <thead>\n    <tr style=\"text-align: right;\">\n      <th></th>\n      <th>Recommender</th>\n      <th>HR@1</th>\n      <th>HR@3</th>\n      <th>HR@5</th>\n      <th>HR@10</th>\n      <th>NDCG@1</th>\n      <th>NDCG@3</th>\n      <th>NDCG@5</th>\n      <th>NDCG@10</th>\n    </tr>\n  </thead>\n  <tbody>\n    <tr>\n      <th>0</th>\n      <td>LinearRegressionCBUIRecommender</td>\n      <td>0.042091</td>\n      <td>0.093347</td>\n      <td>0.145282</td>\n      <td>0.228445</td>\n      <td>0.042091</td>\n      <td>0.072030</td>\n      <td>0.092835</td>\n      <td>0.12023</td>\n    </tr>\n    <tr>\n      <th>1</th>\n      <td>AmazonRecommender</td>\n      <td>0.037339</td>\n      <td>0.101494</td>\n      <td>0.143245</td>\n      <td>0.215207</td>\n      <td>0.037339</td>\n      <td>0.073816</td>\n      <td>0.091083</td>\n      <td>0.11423</td>\n    </tr>\n  </tbody>\n</table>\n</div>"
     },
     "metadata": {},
     "output_type": "display_data"
    }
   ],
   "source": [
    "tts_results = pd.concat([linear_cbui_tts_results, amazon_tts_results]).reset_index(drop=True)\n",
    "display(tts_results)"
   ]
  },
  {
   "cell_type": "code",
   "execution_count": null,
   "id": "white-demographic",
   "metadata": {},
   "outputs": [],
   "source": []
  }
 ],
 "metadata": {
  "kernelspec": {
   "display_name": "Python 3 (ipykernel)",
   "language": "python",
   "name": "python3"
  },
  "language_info": {
   "codemirror_mode": {
    "name": "ipython",
    "version": 3
   },
   "file_extension": ".py",
   "mimetype": "text/x-python",
   "name": "python",
   "nbconvert_exporter": "python",
   "pygments_lexer": "ipython3",
   "version": "3.8.10"
  }
 },
 "nbformat": 4,
 "nbformat_minor": 5
}